{
 "cells": [
  {
   "cell_type": "code",
   "execution_count": 11,
   "metadata": {
    "ExecuteTime": {
     "end_time": "2023-05-27T15:27:38.746348600Z",
     "start_time": "2023-05-27T15:27:38.711686400Z"
    }
   },
   "outputs": [],
   "source": [
    "class Tester:\n",
    "    def __init__(self):\n",
    "        self.name = \"\"\n",
    "        self.age = int\n",
    "\n",
    "    def __str__(self):\n",
    "        return \"name: \" + self.name + \", age: \" + str(self.age)"
   ]
  },
  {
   "cell_type": "code",
   "execution_count": 12,
   "metadata": {
    "ExecuteTime": {
     "end_time": "2023-05-27T15:27:38.776616100Z",
     "start_time": "2023-05-27T15:27:38.725836500Z"
    }
   },
   "outputs": [
    {
     "name": "stdout",
     "output_type": "stream",
     "text": [
      "name: test1, age: 10\n"
     ]
    }
   ],
   "source": [
    "test1 = Tester()\n",
    "test1.name = \"test1\"\n",
    "test1.age = 10\n",
    "print(test1)"
   ]
  },
  {
   "cell_type": "code",
   "execution_count": 13,
   "metadata": {
    "ExecuteTime": {
     "end_time": "2023-05-27T15:27:38.792268200Z",
     "start_time": "2023-05-27T15:27:38.746857800Z"
    }
   },
   "outputs": [
    {
     "name": "stdout",
     "output_type": "stream",
     "text": [
      "name: test2, age: 20\n"
     ]
    }
   ],
   "source": [
    "test2 = Tester()\n",
    "test2.name = \"test2\"\n",
    "test2.age = 20\n",
    "print(test2)"
   ]
  },
  {
   "cell_type": "code",
   "execution_count": 13,
   "outputs": [],
   "source": [],
   "metadata": {
    "collapsed": false,
    "ExecuteTime": {
     "end_time": "2023-05-27T15:27:38.793700200Z",
     "start_time": "2023-05-27T15:27:38.750461600Z"
    }
   }
  }
 ],
 "metadata": {
  "kernelspec": {
   "display_name": "study",
   "language": "python",
   "name": "python3"
  },
  "language_info": {
   "name": "python",
   "version": "3.11.0"
  },
  "orig_nbformat": 4
 },
 "nbformat": 4,
 "nbformat_minor": 2
}
